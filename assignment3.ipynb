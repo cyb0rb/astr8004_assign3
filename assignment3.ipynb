{
 "cells": [
  {
   "cell_type": "markdown",
   "metadata": {},
   "source": [
    "# Assignment 3\n",
    "## 1: `git` in practice\n",
    "\n",
    "Link to this repository: [astr8004_assign3](https://github.com/cyb0rb/astr8004_assign3)\n",
    "\n",
    "## 2: Using ADQL to search for bright stars around the open cluster M67\n"
   ]
  },
  {
   "cell_type": "code",
   "execution_count": 2,
   "metadata": {},
   "outputs": [],
   "source": [
    "from astroquery.gaia import Gaia\n"
   ]
  },
  {
   "cell_type": "code",
   "execution_count": null,
   "metadata": {},
   "outputs": [],
   "source": []
  },
  {
   "cell_type": "markdown",
   "metadata": {},
   "source": [
    "## 3: Radial metallicity relation in simulated data"
   ]
  },
  {
   "cell_type": "code",
   "execution_count": 5,
   "metadata": {},
   "outputs": [],
   "source": [
    "import matplotlib.pyplot as plt\n",
    "from astropy.table import Table"
   ]
  },
  {
   "cell_type": "code",
   "execution_count": 8,
   "metadata": {},
   "outputs": [],
   "source": [
    "# load and get data from file\n",
    "datafile = \"data/nihao_uhd_simulation_g8.26e11_xyz_positions_and_oxygen_ao.fits\"    \n",
    "data = Table.read(datafile)"
   ]
  },
  {
   "cell_type": "code",
   "execution_count": 7,
   "metadata": {},
   "outputs": [
    {
     "name": "stdout",
     "output_type": "stream",
     "text": [
      "     x           y           z             A_O       \n",
      "----------- ----------- ----------- -----------------\n",
      "  10.020546  -15.421509   -3.241711 8.428943189382553\n",
      " -13.487837   5.6635065  -0.8023056 8.671106847524642\n",
      "   6.642289 -0.13894245  -0.5859607 8.891595783233642\n",
      " 0.20393881   4.1123734 -0.14762174 8.977195146083831\n",
      " -20.824045    6.971037  -1.7580608 8.326950194835662\n",
      "  5.3447924   18.439764   1.9853237 8.536727162599563\n",
      "  22.162682    5.025803   2.6751451 8.323067548274993\n",
      "  1.6786892    24.85231  0.67804474 8.362448933124542\n",
      "  19.999903   3.7504601   1.1096945 8.336060168743133\n",
      " -2.9554436   20.133005   -1.932177 8.343063088655471\n",
      "        ...         ...         ...               ...\n",
      " -0.9178076   -1.833632 -0.23717117 9.094153168201446\n",
      " -0.7422366  -1.6049787 -0.14949895 9.139604213237762\n",
      " -0.7422366   -1.603936  -0.1486693 9.139604213237762\n",
      "-0.74240154  -1.6039217 -0.14868727 9.139604213237762\n",
      "  1.5331887  0.99755794  0.21667345 9.102035703659057\n",
      "  1.5331887  0.99807924  0.21708827 9.102035703659057\n",
      "  1.5321989   0.9981651  0.21698046 9.102035703659057\n",
      "  1.6982036  -1.2077066  0.12108785 9.081204744577407\n",
      "  1.6982036  -1.2066638  0.12191749 9.081204744577407\n",
      "  1.6980386  -1.2066495  0.12189952 9.081204744577407\n",
      "Length = 511520 rows\n"
     ]
    }
   ],
   "source": [
    "# plot data from file\n",
    "print(table)"
   ]
  },
  {
   "cell_type": "code",
   "execution_count": null,
   "metadata": {},
   "outputs": [],
   "source": []
  }
 ],
 "metadata": {
  "kernelspec": {
   "display_name": "venv",
   "language": "python",
   "name": "python3"
  },
  "language_info": {
   "codemirror_mode": {
    "name": "ipython",
    "version": 3
   },
   "file_extension": ".py",
   "mimetype": "text/x-python",
   "name": "python",
   "nbconvert_exporter": "python",
   "pygments_lexer": "ipython3",
   "version": "3.10.12"
  }
 },
 "nbformat": 4,
 "nbformat_minor": 2
}
